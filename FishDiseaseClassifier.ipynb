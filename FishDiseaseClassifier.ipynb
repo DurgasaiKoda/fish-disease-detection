{
 "cells": [
  {
   "cell_type": "code",
   "execution_count": 1,
   "id": "6267a3c8-9ada-4d20-9cbe-9b32f48003b2",
   "metadata": {},
   "outputs": [],
   "source": [
    "import numpy as np\n",
    "import pandas as pd\n",
    "import matplotlib.pyplot as plt\n",
    "from skimage.io import imread\n",
    "from skimage.transform import resize\n",
    "\n",
    "from sklearn.model_selection import train_test_split\n",
    "from sklearn.metrics import accuracy_score, classification_report\n",
    "from sklearn.pipeline import make_pipeline\n",
    "from sklearn.preprocessing import StandardScaler\n",
    "from sklearn.decomposition import PCA\n",
    "\n",
    "from sklearn.svm import SVC\n",
    "from sklearn.ensemble import RandomForestClassifier\n",
    "from sklearn.linear_model import LogisticRegression\n",
    "from sklearn.tree import DecisionTreeClassifier\n",
    "\n",
    "from xgboost import XGBClassifier\n",
    "import os\n"
   ]
  },
  {
   "cell_type": "code",
   "execution_count": 2,
   "id": "cffc5cf9-d565-44a4-9e67-bcf4b801163a",
   "metadata": {},
   "outputs": [],
   "source": [
    "def load_data_from_directory(base_path, categories, image_size=(64, 64)):\n",
    "    data, labels = [], []\n",
    "    for label_index, category in enumerate(categories):\n",
    "        category_path = os.path.join(base_path, category)\n",
    "        for img_file in os.listdir(category_path):\n",
    "            try:\n",
    "                img_path = os.path.join(category_path, img_file)\n",
    "                img = imread(img_path)\n",
    "                img_resized = resize(img, image_size)\n",
    "                data.append(img_resized.flatten())\n",
    "                labels.append(label_index)\n",
    "            except:\n",
    "                print(f\"Failed to load: {img_path}\")\n",
    "    return np.array(data), np.array(labels)\n"
   ]
  },
  {
   "cell_type": "code",
   "execution_count": 3,
   "id": "34ec85f8-b884-4099-a9f3-2875df2911cb",
   "metadata": {},
   "outputs": [],
   "source": [
    "def get_models():\n",
    "    return {\n",
    "        \"SVM\": make_pipeline(StandardScaler(), SVC(probability=True)),\n",
    "        \"Random Forest\": RandomForestClassifier(),\n",
    "        \"Logistic Regression\": LogisticRegression(max_iter=1000),\n",
    "        \"Decision Tree\": DecisionTreeClassifier(),\n",
    "        \"XGBoost\": XGBClassifier(use_label_encoder=False, eval_metric='mlogloss')\n",
    "    }\n"
   ]
  },
  {
   "cell_type": "code",
   "execution_count": 4,
   "id": "1aee1973-ce01-41c5-9868-80e3e2fc57cb",
   "metadata": {},
   "outputs": [
    {
     "name": "stdout",
     "output_type": "stream",
     "text": [
      "Categories: ['Bacterial diseases - Aeromoniasis', 'Bacterial gill disease', 'Bacterial Red disease', 'EUS', 'Fungal diseases Saprolegniasis', 'Healthy Fish', 'Parasitic diseases', 'Viral diseases White tail disease']\n",
      "Train shape: (2097, 12288) Labels: (2097,)\n",
      "Valid shape: (448, 12288) Labels: (448,)\n",
      "Test shape: (457, 12288) Labels: (457,)\n"
     ]
    }
   ],
   "source": [
    "dataset_path = 'dataset'\n",
    "categories = os.listdir(os.path.join(dataset_path, 'train'))\n",
    "print(\"Categories:\", categories)\n",
    "\n",
    "x_train, y_train = load_data_from_directory(os.path.join(dataset_path, 'train'), categories)\n",
    "x_valid, y_valid = load_data_from_directory(os.path.join(dataset_path, 'valid'), categories)\n",
    "x_test, y_test   = load_data_from_directory(os.path.join(dataset_path, 'test'), categories)\n",
    "\n",
    "print(\"Train shape:\", x_train.shape, \"Labels:\", y_train.shape)\n",
    "print(\"Valid shape:\", x_valid.shape, \"Labels:\", y_valid.shape)\n",
    "print(\"Test shape:\", x_test.shape, \"Labels:\", y_test.shape)\n"
   ]
  },
  {
   "cell_type": "code",
   "execution_count": 5,
   "id": "035c6ca1-f61c-448d-a5d4-3e28da2cd2ce",
   "metadata": {},
   "outputs": [
    {
     "name": "stdout",
     "output_type": "stream",
     "text": [
      "\n",
      "🧠 Training SVM...\n",
      "✅ SVM Validation Accuracy: 55.13%\n",
      "                                   precision    recall  f1-score   support\n",
      "\n",
      "Bacterial diseases - Aeromoniasis       0.69      0.52      0.60        48\n",
      "           Bacterial gill disease       0.62      0.79      0.69        87\n",
      "            Bacterial Red disease       0.40      0.44      0.42        39\n",
      "                              EUS       0.32      0.18      0.23        45\n",
      "   Fungal diseases Saprolegniasis       0.69      0.22      0.33        41\n",
      "                     Healthy Fish       0.55      0.83      0.66       110\n",
      "               Parasitic diseases       0.44      0.32      0.37        34\n",
      "Viral diseases White tail disease       0.59      0.39      0.47        44\n",
      "\n",
      "                         accuracy                           0.55       448\n",
      "                        macro avg       0.54      0.46      0.47       448\n",
      "                     weighted avg       0.55      0.55      0.52       448\n",
      "\n",
      "\n",
      "🧠 Training Random Forest...\n",
      "✅ Random Forest Validation Accuracy: 61.16%\n",
      "                                   precision    recall  f1-score   support\n",
      "\n",
      "Bacterial diseases - Aeromoniasis       0.77      0.50      0.61        48\n",
      "           Bacterial gill disease       0.59      0.78      0.67        87\n",
      "            Bacterial Red disease       0.49      0.44      0.46        39\n",
      "                              EUS       0.36      0.22      0.27        45\n",
      "   Fungal diseases Saprolegniasis       0.73      0.46      0.57        41\n",
      "                     Healthy Fish       0.65      0.93      0.76       110\n",
      "               Parasitic diseases       0.52      0.38      0.44        34\n",
      "Viral diseases White tail disease       0.68      0.48      0.56        44\n",
      "\n",
      "                         accuracy                           0.61       448\n",
      "                        macro avg       0.60      0.52      0.54       448\n",
      "                     weighted avg       0.61      0.61      0.59       448\n",
      "\n",
      "\n",
      "🧠 Training Logistic Regression...\n"
     ]
    },
    {
     "name": "stderr",
     "output_type": "stream",
     "text": [
      "C:\\Users\\kodan\\Desktop\\fish_disease_classifier\\venv\\Lib\\site-packages\\sklearn\\linear_model\\_logistic.py:470: ConvergenceWarning: lbfgs failed to converge after 1000 iteration(s) (status=1):\n",
      "STOP: TOTAL NO. OF ITERATIONS REACHED LIMIT\n",
      "\n",
      "Increase the number of iterations to improve the convergence (max_iter=1000).\n",
      "You might also want to scale the data as shown in:\n",
      "    https://scikit-learn.org/stable/modules/preprocessing.html\n",
      "Please also refer to the documentation for alternative solver options:\n",
      "    https://scikit-learn.org/stable/modules/linear_model.html#logistic-regression\n",
      "  n_iter_i = _check_optimize_result(\n"
     ]
    },
    {
     "name": "stdout",
     "output_type": "stream",
     "text": [
      "✅ Logistic Regression Validation Accuracy: 48.21%\n",
      "                                   precision    recall  f1-score   support\n",
      "\n",
      "Bacterial diseases - Aeromoniasis       0.53      0.42      0.47        48\n",
      "           Bacterial gill disease       0.63      0.57      0.60        87\n",
      "            Bacterial Red disease       0.26      0.33      0.29        39\n",
      "                              EUS       0.26      0.20      0.23        45\n",
      "   Fungal diseases Saprolegniasis       0.35      0.41      0.38        41\n",
      "                     Healthy Fish       0.68      0.74      0.71       110\n",
      "               Parasitic diseases       0.32      0.32      0.32        34\n",
      "Viral diseases White tail disease       0.34      0.34      0.34        44\n",
      "\n",
      "                         accuracy                           0.48       448\n",
      "                        macro avg       0.42      0.42      0.42       448\n",
      "                     weighted avg       0.48      0.48      0.48       448\n",
      "\n",
      "\n",
      "🧠 Training Decision Tree...\n",
      "✅ Decision Tree Validation Accuracy: 46.43%\n",
      "                                   precision    recall  f1-score   support\n",
      "\n",
      "Bacterial diseases - Aeromoniasis       0.43      0.33      0.38        48\n",
      "           Bacterial gill disease       0.60      0.54      0.57        87\n",
      "            Bacterial Red disease       0.30      0.33      0.32        39\n",
      "                              EUS       0.28      0.33      0.30        45\n",
      "   Fungal diseases Saprolegniasis       0.41      0.37      0.38        41\n",
      "                     Healthy Fish       0.62      0.68      0.65       110\n",
      "               Parasitic diseases       0.28      0.32      0.30        34\n",
      "Viral diseases White tail disease       0.41      0.36      0.39        44\n",
      "\n",
      "                         accuracy                           0.46       448\n",
      "                        macro avg       0.42      0.41      0.41       448\n",
      "                     weighted avg       0.47      0.46      0.46       448\n",
      "\n",
      "\n",
      "🧠 Training XGBoost...\n"
     ]
    },
    {
     "name": "stderr",
     "output_type": "stream",
     "text": [
      "C:\\Users\\kodan\\Desktop\\fish_disease_classifier\\venv\\Lib\\site-packages\\xgboost\\training.py:183: UserWarning: [22:43:15] WARNING: C:\\actions-runner\\_work\\xgboost\\xgboost\\src\\learner.cc:738: \n",
      "Parameters: { \"use_label_encoder\" } are not used.\n",
      "\n",
      "  bst.update(dtrain, iteration=i, fobj=obj)\n"
     ]
    },
    {
     "name": "stdout",
     "output_type": "stream",
     "text": [
      "✅ XGBoost Validation Accuracy: 62.05%\n",
      "                                   precision    recall  f1-score   support\n",
      "\n",
      "Bacterial diseases - Aeromoniasis       0.64      0.48      0.55        48\n",
      "           Bacterial gill disease       0.66      0.72      0.69        87\n",
      "            Bacterial Red disease       0.51      0.46      0.49        39\n",
      "                              EUS       0.39      0.38      0.38        45\n",
      "   Fungal diseases Saprolegniasis       0.62      0.56      0.59        41\n",
      "                     Healthy Fish       0.72      0.85      0.78       110\n",
      "               Parasitic diseases       0.46      0.50      0.48        34\n",
      "Viral diseases White tail disease       0.69      0.55      0.61        44\n",
      "\n",
      "                         accuracy                           0.62       448\n",
      "                        macro avg       0.59      0.56      0.57       448\n",
      "                     weighted avg       0.62      0.62      0.61       448\n",
      "\n"
     ]
    }
   ],
   "source": [
    "models = get_models()\n",
    "accuracies = {}\n",
    "\n",
    "for name, model in models.items():\n",
    "    print(f\"\\n🧠 Training {name}...\")\n",
    "    model.fit(x_train, y_train)\n",
    "    y_val_pred = model.predict(x_valid)\n",
    "    acc = accuracy_score(y_valid, y_val_pred)\n",
    "    accuracies[name] = acc\n",
    "    print(f\"✅ {name} Validation Accuracy: {acc * 100:.2f}%\")\n",
    "    print(classification_report(y_valid, y_val_pred, target_names=categories))\n"
   ]
  },
  {
   "cell_type": "code",
   "execution_count": 6,
   "id": "19ef046f-8d07-4309-9de8-c376ac70cea8",
   "metadata": {},
   "outputs": [
    {
     "name": "stdout",
     "output_type": "stream",
     "text": [
      "\n",
      "🏁 Final Evaluation using best model: XGBoost\n",
      "✅ Test Accuracy: 64.99%\n",
      "                                   precision    recall  f1-score   support\n",
      "\n",
      "Bacterial diseases - Aeromoniasis       0.64      0.65      0.64        43\n",
      "           Bacterial gill disease       0.68      0.71      0.70        84\n",
      "            Bacterial Red disease       0.50      0.56      0.53        43\n",
      "                              EUS       0.28      0.21      0.24        33\n",
      "   Fungal diseases Saprolegniasis       0.62      0.62      0.62        40\n",
      "                     Healthy Fish       0.76      0.86      0.80       127\n",
      "               Parasitic diseases       0.50      0.40      0.44        43\n",
      "Viral diseases White tail disease       0.79      0.61      0.69        44\n",
      "\n",
      "                         accuracy                           0.65       457\n",
      "                        macro avg       0.60      0.58      0.58       457\n",
      "                     weighted avg       0.64      0.65      0.64       457\n",
      "\n"
     ]
    }
   ],
   "source": [
    "best_model_name = max(accuracies, key=accuracies.get)\n",
    "best_model = models[best_model_name]\n",
    "\n",
    "print(f\"\\n🏁 Final Evaluation using best model: {best_model_name}\")\n",
    "y_test_pred = best_model.predict(x_test)\n",
    "test_acc = accuracy_score(y_test, y_test_pred)\n",
    "print(f\"✅ Test Accuracy: {test_acc * 100:.2f}%\")\n",
    "print(classification_report(y_test, y_test_pred, target_names=categories))\n"
   ]
  },
  {
   "cell_type": "code",
   "execution_count": 9,
   "id": "dd2441e4-a96e-4a78-987e-72f2e2c95a1b",
   "metadata": {},
   "outputs": [
    {
     "data": {
      "image/png": "[encoded data removed]",
      "text/plain": [
       "<Figure size 800x500 with 1 Axes>"
      ]
     },
     "metadata": {},
     "output_type": "display_data"
    }
   ],
   "source": [
    "plt.figure(figsize=(8, 5))\n",
    "plt.bar(accuracies.keys(), [v * 100 for v in accuracies.values()], color='royalblue')\n",
    "plt.title(\"Validation Accuracy Comparison\")\n",
    "plt.ylabel(\"Accuracy (%)\")\n",
    "plt.xticks(rotation=45)\n",
    "plt.ylim(0, 100)\n",
    "plt.grid(axis='y')\n",
    "plt.tight_layout()\n",
    "plt.show()"
   ]
  },
  {
   "cell_type": "code",
   "execution_count": null,
   "id": "31e0ed35-d59b-4c01-ae4f-c02df7cecc8f",
   "metadata": {},
   "outputs": [],
   "source": []
  }
 ],
 "metadata": {
  "kernelspec": {
   "display_name": "Python 3 (ipykernel)",
   "language": "python",
   "name": "python3"
  },
  "language_info": {
   "codemirror_mode": {
    "name": "ipython",
    "version": 3
   },
   "file_extension": ".py",
   "mimetype": "text/x-python",
   "name": "python",
   "nbconvert_exporter": "python",
   "pygments_lexer": "ipython3",
   "version": "3.11.4"
  }
 },
 "nbformat": 4,
 "nbformat_minor": 5
}
