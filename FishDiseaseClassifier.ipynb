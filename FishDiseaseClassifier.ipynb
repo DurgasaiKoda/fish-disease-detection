{
 "cells": [
  {
   "cell_type": "code",
   "execution_count": 1,
   "id": "6267a3c8-9ada-4d20-9cbe-9b32f48003b2",
   "metadata": {},
   "outputs": [],
   "source": [
    "import numpy as np\n",
    "import pandas as pd\n",
    "import matplotlib.pyplot as plt\n",
    "from skimage.io import imread\n",
    "from skimage.transform import resize\n",
    "\n",
    "from sklearn.model_selection import train_test_split\n",
    "from sklearn.metrics import accuracy_score, classification_report\n",
    "from sklearn.pipeline import make_pipeline\n",
    "from sklearn.preprocessing import StandardScaler\n",
    "from sklearn.decomposition import PCA\n",
    "\n",
    "from sklearn.svm import SVC\n",
    "from sklearn.ensemble import RandomForestClassifier\n",
    "from sklearn.linear_model import LogisticRegression\n",
    "from sklearn.tree import DecisionTreeClassifier\n",
    "\n",
    "from xgboost import XGBClassifier\n",
    "\n",
    "import joblib\n",
    "import os\n"
   ]
  },
  {
   "cell_type": "code",
   "execution_count": 2,
   "id": "cffc5cf9-d565-44a4-9e67-bcf4b801163a",
   "metadata": {},
   "outputs": [],
   "source": [
    "def load_data_from_directory(base_path, categories, image_size=(64, 64)):\n",
    "    data, labels = [], []\n",
    "    for label_index, category in enumerate(categories):\n",
    "        category_path = os.path.join(base_path, category)\n",
    "        for img_file in os.listdir(category_path):\n",
    "            try:\n",
    "                img_path = os.path.join(category_path, img_file)\n",
    "                img = imread(img_path)\n",
    "                img_resized = resize(img, image_size)\n",
    "                data.append(img_resized.flatten())\n",
    "                labels.append(label_index)\n",
    "            except:\n",
    "                print(f\"Failed to load: {img_path}\")\n",
    "    return np.array(data), np.array(labels)\n"
   ]
  },
  {
   "cell_type": "code",
   "execution_count": 3,
   "id": "34ec85f8-b884-4099-a9f3-2875df2911cb",
   "metadata": {},
   "outputs": [],
   "source": [
    "def get_models():\n",
    "    return {\n",
    "        \"SVM\": make_pipeline(StandardScaler(), SVC(probability=True)),\n",
    "        \"Random Forest\": RandomForestClassifier(),\n",
    "        \"Logistic Regression\": LogisticRegression(max_iter=1000),\n",
    "        \"Decision Tree\": DecisionTreeClassifier(),\n",
    "        \"XGBoost\": XGBClassifier(use_label_encoder=False, eval_metric='mlogloss')\n",
    "    }\n"
   ]
  },
  {
   "cell_type": "code",
   "execution_count": null,
   "id": "1aee1973-ce01-41c5-9868-80e3e2fc57cb",
   "metadata": {},
   "outputs": [
    {
     "name": "stdout",
     "output_type": "stream",
     "text": [
      "Categories: ['Bacterial diseases - Aeromoniasis', 'Bacterial gill disease', 'Bacterial Red disease', 'EUS', 'Fungal diseases Saprolegniasis', 'Healthy Fish', 'Parasitic diseases', 'Viral diseases White tail disease']\n"
     ]
    }
   ],
   "source": [
    "dataset_path = 'dataset'\n",
    "categories = os.listdir(os.path.join(dataset_path, 'train'))\n",
    "print(\"Categories:\", categories)\n",
    "\n",
    "x_train, y_train = load_data_from_directory(os.path.join(dataset_path, 'train'), categories)\n",
    "x_valid, y_valid = load_data_from_directory(os.path.join(dataset_path, 'valid'), categories)\n",
    "x_test, y_test   = load_data_from_directory(os.path.join(dataset_path, 'test'), categories)\n",
    "\n",
    "print(\"Train shape:\", x_train.shape, \"Labels:\", y_train.shape)\n",
    "print(\"Valid shape:\", x_valid.shape, \"Labels:\", y_valid.shape)\n",
    "print(\"Test shape:\", x_test.shape, \"Labels:\", y_test.shape)\n"
   ]
  },
  {
   "cell_type": "code",
   "execution_count": null,
   "id": "035c6ca1-f61c-448d-a5d4-3e28da2cd2ce",
   "metadata": {},
   "outputs": [],
   "source": [
    "models = get_models()\n",
    "accuracies = {}\n",
    "\n",
    "for name, model in models.items():\n",
    "    print(f\"\\n🧠 Training {name}...\")\n",
    "    model.fit(x_train, y_train)\n",
    "    y_val_pred = model.predict(x_valid)\n",
    "    acc = accuracy_score(y_valid, y_val_pred)\n",
    "    accuracies[name] = acc\n",
    "    print(f\"✅ {name} Validation Accuracy: {acc * 100:.2f}%\")\n",
    "    print(classification_report(y_valid, y_val_pred, target_names=categories))\n"
   ]
  },
  {
   "cell_type": "code",
   "execution_count": null,
   "id": "19ef046f-8d07-4309-9de8-c376ac70cea8",
   "metadata": {},
   "outputs": [],
   "source": [
    "best_model_name = max(accuracies, key=accuracies.get)\n",
    "best_model = models[best_model_name]\n",
    "\n",
    "print(f\"\\n🏁 Final Evaluation using best model: {best_model_name}\")\n",
    "y_test_pred = best_model.predict(x_test)\n",
    "test_acc = accuracy_score(y_test, y_test_pred)\n",
    "print(f\"✅ Test Accuracy: {test_acc * 100:.2f}%\")\n",
    "print(classification_report(y_test, y_test_pred, target_names=categories))\n",
    "joblib.dump(best_model, 'fish_model.pkl')\n",
    "print(f\"Best model saved as fish_model.pkl\")\n"
   ]
  },
  {
   "cell_type": "code",
   "execution_count": null,
   "id": "dd2441e4-a96e-4a78-987e-72f2e2c95a1b",
   "metadata": {},
   "outputs": [],
   "source": [
    "plt.figure(figsize=(8, 5))\n",
    "plt.bar(accuracies.keys(), [v * 100 for v in accuracies.values()], color='royalblue')\n",
    "plt.title(\"Validation Accuracy Comparison\")\n",
    "plt.ylabel(\"Accuracy (%)\")\n",
    "plt.xticks(rotation=45)\n",
    "plt.ylim(0, 100)\n",
    "plt.grid(axis='y')\n",
    "plt.tight_layout()\n",
    "plt.show()"
   ]
  },
  {
   "cell_type": "code",
   "execution_count": null,
   "id": "31e0ed35-d59b-4c01-ae4f-c02df7cecc8f",
   "metadata": {},
   "outputs": [],
   "source": []
  }
 ],
 "metadata": {
  "kernelspec": {
   "display_name": "Python 3 (ipykernel)",
   "language": "python",
   "name": "python3"
  },
  "language_info": {
   "codemirror_mode": {
    "name": "ipython",
    "version": 3
   },
   "file_extension": ".py",
   "mimetype": "text/x-python",
   "name": "python",
   "nbconvert_exporter": "python",
   "pygments_lexer": "ipython3",
   "version": "3.11.4"
  }
 },
 "nbformat": 4,
 "nbformat_minor": 5
}
